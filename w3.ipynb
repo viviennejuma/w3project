{
 "metadata": {
  "language_info": {
   "codemirror_mode": {
    "name": "ipython",
    "version": 3
   },
   "file_extension": ".py",
   "mimetype": "text/x-python",
   "name": "python",
   "nbconvert_exporter": "python",
   "pygments_lexer": "ipython3",
   "version": "3.8.5-final"
  },
  "orig_nbformat": 2,
  "kernelspec": {
   "name": "python3",
   "display_name": "Python 3",
   "language": "python"
  }
 },
 "nbformat": 4,
 "nbformat_minor": 2,
 "cells": [
  {
   "cell_type": "code",
   "execution_count": 1,
   "metadata": {},
   "outputs": [],
   "source": [
    "# First we import the python software libraries that we will use here\n",
    "\n",
    "# importing numpy\n",
    "import numpy as np\n",
    "\n",
    "# importing pandas \n",
    "import pandas as pd"
   ]
  },
  {
   "cell_type": "code",
   "execution_count": 2,
   "metadata": {},
   "outputs": [
    {
     "output_type": "execute_result",
     "data": {
      "text/plain": [
       "  PRODUTC  VALUE               DATETIME CELL_ON_SITE  DW_A_NUMBER_INT  \\\n",
       "0   Voice      0  2012-05-06 23:04:37.0            1  49fae048b547780   \n",
       "1     sms      0  2012-05-06 23:05:25.0            0  7a54a6eaee19e65   \n",
       "2     sms     25  2012-05-06 23:05:41.0            0  6008887b0207d82   \n",
       "3   Voice     56  2012-05-06 23:05:42.0            1  7370032e20f4e96   \n",
       "4   Voice     14  2012-05-06 23:06:29.0            1  966ba4656e38e62   \n",
       "\n",
       "   DW_B_NUMBER_INT COUNTRY_A COUNTRY_B     CELL_ID     SITE_ID  \n",
       "0  1a49f8b0ded9de6     19e2e     19e2e  /TJNe+Mmtu  /TJNe+Mmtu  \n",
       "1  93343ba6e41af95     19e2e     19e2e  /+cKZKIp41  /+cKZKIp41  \n",
       "2  7aacc9709ce0a20     19e2e     19e2e  /u0FSD+ahi  /u0FSD+ahi  \n",
       "3  6af4a60e74c91d3     19e2e     19e2e  +cNeJzsTp3  +cNeJzsTp3  \n",
       "4  02aa736ee555d5c     19e2e     19e2e  051KhYDCpv  051KhYDCpv  "
      ],
      "text/html": "<div>\n<style scoped>\n    .dataframe tbody tr th:only-of-type {\n        vertical-align: middle;\n    }\n\n    .dataframe tbody tr th {\n        vertical-align: top;\n    }\n\n    .dataframe thead th {\n        text-align: right;\n    }\n</style>\n<table border=\"1\" class=\"dataframe\">\n  <thead>\n    <tr style=\"text-align: right;\">\n      <th></th>\n      <th>PRODUTC</th>\n      <th>VALUE</th>\n      <th>DATETIME</th>\n      <th>CELL_ON_SITE</th>\n      <th>DW_A_NUMBER_INT</th>\n      <th>DW_B_NUMBER_INT</th>\n      <th>COUNTRY_A</th>\n      <th>COUNTRY_B</th>\n      <th>CELL_ID</th>\n      <th>SITE_ID</th>\n    </tr>\n  </thead>\n  <tbody>\n    <tr>\n      <th>0</th>\n      <td>Voice</td>\n      <td>0</td>\n      <td>2012-05-06 23:04:37.0</td>\n      <td>1</td>\n      <td>49fae048b547780</td>\n      <td>1a49f8b0ded9de6</td>\n      <td>19e2e</td>\n      <td>19e2e</td>\n      <td>/TJNe+Mmtu</td>\n      <td>/TJNe+Mmtu</td>\n    </tr>\n    <tr>\n      <th>1</th>\n      <td>sms</td>\n      <td>0</td>\n      <td>2012-05-06 23:05:25.0</td>\n      <td>0</td>\n      <td>7a54a6eaee19e65</td>\n      <td>93343ba6e41af95</td>\n      <td>19e2e</td>\n      <td>19e2e</td>\n      <td>/+cKZKIp41</td>\n      <td>/+cKZKIp41</td>\n    </tr>\n    <tr>\n      <th>2</th>\n      <td>sms</td>\n      <td>25</td>\n      <td>2012-05-06 23:05:41.0</td>\n      <td>0</td>\n      <td>6008887b0207d82</td>\n      <td>7aacc9709ce0a20</td>\n      <td>19e2e</td>\n      <td>19e2e</td>\n      <td>/u0FSD+ahi</td>\n      <td>/u0FSD+ahi</td>\n    </tr>\n    <tr>\n      <th>3</th>\n      <td>Voice</td>\n      <td>56</td>\n      <td>2012-05-06 23:05:42.0</td>\n      <td>1</td>\n      <td>7370032e20f4e96</td>\n      <td>6af4a60e74c91d3</td>\n      <td>19e2e</td>\n      <td>19e2e</td>\n      <td>+cNeJzsTp3</td>\n      <td>+cNeJzsTp3</td>\n    </tr>\n    <tr>\n      <th>4</th>\n      <td>Voice</td>\n      <td>14</td>\n      <td>2012-05-06 23:06:29.0</td>\n      <td>1</td>\n      <td>966ba4656e38e62</td>\n      <td>02aa736ee555d5c</td>\n      <td>19e2e</td>\n      <td>19e2e</td>\n      <td>051KhYDCpv</td>\n      <td>051KhYDCpv</td>\n    </tr>\n  </tbody>\n</table>\n</div>"
     },
     "metadata": {},
     "execution_count": 2
    }
   ],
   "source": [
    "# Loading a csv\n",
    "df1 = pd.read_csv('data\\Telcom_dataset.csv')\n",
    "df1.head()\n"
   ]
  },
  {
   "cell_type": "code",
   "execution_count": 3,
   "metadata": {},
   "outputs": [
    {
     "output_type": "execute_result",
     "data": {
      "text/plain": [
       "  PRODUCT  VALUE              DATE_TIME CELL_ON_SITE      DW_A_NUMBER  \\\n",
       "0     sms      0  2012-05-07 23:02:06.0            2  32255675c3b6fe3   \n",
       "1   Voice      0  2012-05-07 23:03:44.0            1  ff16d6ac74c1c64   \n",
       "2     sms      0  2012-05-07 23:04:06.0            0  98d9f2fb5ff624b   \n",
       "3   Voice     37  2012-05-07 23:04:48.0            1  3f9c8a33ec7be1f   \n",
       "4     sms     25  2012-05-07 23:04:58.0            1  7bcccc03adf3864   \n",
       "\n",
       "       DW_B_NUMBER COUNTRY_A COUNTRY_B     CELL_ID     SITE_ID  \n",
       "0  1aa7ae01386e9fb     19e2e     19e2e  +854AcBQT2  +854AcBQT2  \n",
       "1  87d87309c15a8c9     19e2e     19e2e  +854AcBQT2  +854AcBQT2  \n",
       "2  93343ba6e41af95     19e2e     19e2e  +laSrk7g6q  +laSrk7g6q  \n",
       "3  7d05a38f89c49d8     19e2e     19e2e  /xvRrCVKoQ  /xvRrCVKoQ  \n",
       "4  56a5d5430d2fa86     19e2e     19e2e  +bO+qkSonO  +bO+qkSonO  "
      ],
      "text/html": "<div>\n<style scoped>\n    .dataframe tbody tr th:only-of-type {\n        vertical-align: middle;\n    }\n\n    .dataframe tbody tr th {\n        vertical-align: top;\n    }\n\n    .dataframe thead th {\n        text-align: right;\n    }\n</style>\n<table border=\"1\" class=\"dataframe\">\n  <thead>\n    <tr style=\"text-align: right;\">\n      <th></th>\n      <th>PRODUCT</th>\n      <th>VALUE</th>\n      <th>DATE_TIME</th>\n      <th>CELL_ON_SITE</th>\n      <th>DW_A_NUMBER</th>\n      <th>DW_B_NUMBER</th>\n      <th>COUNTRY_A</th>\n      <th>COUNTRY_B</th>\n      <th>CELL_ID</th>\n      <th>SITE_ID</th>\n    </tr>\n  </thead>\n  <tbody>\n    <tr>\n      <th>0</th>\n      <td>sms</td>\n      <td>0</td>\n      <td>2012-05-07 23:02:06.0</td>\n      <td>2</td>\n      <td>32255675c3b6fe3</td>\n      <td>1aa7ae01386e9fb</td>\n      <td>19e2e</td>\n      <td>19e2e</td>\n      <td>+854AcBQT2</td>\n      <td>+854AcBQT2</td>\n    </tr>\n    <tr>\n      <th>1</th>\n      <td>Voice</td>\n      <td>0</td>\n      <td>2012-05-07 23:03:44.0</td>\n      <td>1</td>\n      <td>ff16d6ac74c1c64</td>\n      <td>87d87309c15a8c9</td>\n      <td>19e2e</td>\n      <td>19e2e</td>\n      <td>+854AcBQT2</td>\n      <td>+854AcBQT2</td>\n    </tr>\n    <tr>\n      <th>2</th>\n      <td>sms</td>\n      <td>0</td>\n      <td>2012-05-07 23:04:06.0</td>\n      <td>0</td>\n      <td>98d9f2fb5ff624b</td>\n      <td>93343ba6e41af95</td>\n      <td>19e2e</td>\n      <td>19e2e</td>\n      <td>+laSrk7g6q</td>\n      <td>+laSrk7g6q</td>\n    </tr>\n    <tr>\n      <th>3</th>\n      <td>Voice</td>\n      <td>37</td>\n      <td>2012-05-07 23:04:48.0</td>\n      <td>1</td>\n      <td>3f9c8a33ec7be1f</td>\n      <td>7d05a38f89c49d8</td>\n      <td>19e2e</td>\n      <td>19e2e</td>\n      <td>/xvRrCVKoQ</td>\n      <td>/xvRrCVKoQ</td>\n    </tr>\n    <tr>\n      <th>4</th>\n      <td>sms</td>\n      <td>25</td>\n      <td>2012-05-07 23:04:58.0</td>\n      <td>1</td>\n      <td>7bcccc03adf3864</td>\n      <td>56a5d5430d2fa86</td>\n      <td>19e2e</td>\n      <td>19e2e</td>\n      <td>+bO+qkSonO</td>\n      <td>+bO+qkSonO</td>\n    </tr>\n  </tbody>\n</table>\n</div>"
     },
     "metadata": {},
     "execution_count": 3
    }
   ],
   "source": [
    "# To load the second dataset and preview\n",
    " \n",
    "\n",
    "df2 = pd.read_csv('data\\Telcom_dataset2.csv')\n",
    "\n",
    "df2.head()"
   ]
  },
  {
   "cell_type": "code",
   "execution_count": 4,
   "metadata": {},
   "outputs": [
    {
     "output_type": "execute_result",
     "data": {
      "text/plain": [
       "  PRODUCT  VALUE              DATE_TIME CELL_ON_SITE  DW_A_NUMBER_INT  \\\n",
       "0   Voice     61  2012-05-08 23:01:28.0            2  966f68353622feb   \n",
       "1     sms      0  2012-05-08 23:01:31.0            1  a0a597384c612d7   \n",
       "2   Voice     10  2012-05-08 23:02:59.0            1  5441a9a58c97132   \n",
       "3     sms      0  2012-05-08 23:03:04.0            0  8ab8b9ed6989f61   \n",
       "4   Voice     22  2012-05-08 23:03:16.0            4  52662a62b199334   \n",
       "\n",
       "   DW_B_NUMBER_INT COUNTRY_A COUNTRY_B      CELLID     SIET_ID  \n",
       "0  ffd53a3bb2db6f1     19e2e     19e2e  +38u2u/rfx  +38u2u/rfx  \n",
       "1  cf3b218f1dde792     19e2e     19e2e  +Fs4mTvdKx  +Fs4mTvdKx  \n",
       "2  52f8b299515b9b7     19e2e     19e2e  +ZaaZozy/+  +ZaaZozy/+  \n",
       "3  e09e736e46c5c3d     19e2e     19e2e  +cNeJzsTp3  +cNeJzsTp3  \n",
       "4  2186273faab4602     19e2e     19e2e  /eeMklgyJA  /eeMklgyJA  "
      ],
      "text/html": "<div>\n<style scoped>\n    .dataframe tbody tr th:only-of-type {\n        vertical-align: middle;\n    }\n\n    .dataframe tbody tr th {\n        vertical-align: top;\n    }\n\n    .dataframe thead th {\n        text-align: right;\n    }\n</style>\n<table border=\"1\" class=\"dataframe\">\n  <thead>\n    <tr style=\"text-align: right;\">\n      <th></th>\n      <th>PRODUCT</th>\n      <th>VALUE</th>\n      <th>DATE_TIME</th>\n      <th>CELL_ON_SITE</th>\n      <th>DW_A_NUMBER_INT</th>\n      <th>DW_B_NUMBER_INT</th>\n      <th>COUNTRY_A</th>\n      <th>COUNTRY_B</th>\n      <th>CELLID</th>\n      <th>SIET_ID</th>\n    </tr>\n  </thead>\n  <tbody>\n    <tr>\n      <th>0</th>\n      <td>Voice</td>\n      <td>61</td>\n      <td>2012-05-08 23:01:28.0</td>\n      <td>2</td>\n      <td>966f68353622feb</td>\n      <td>ffd53a3bb2db6f1</td>\n      <td>19e2e</td>\n      <td>19e2e</td>\n      <td>+38u2u/rfx</td>\n      <td>+38u2u/rfx</td>\n    </tr>\n    <tr>\n      <th>1</th>\n      <td>sms</td>\n      <td>0</td>\n      <td>2012-05-08 23:01:31.0</td>\n      <td>1</td>\n      <td>a0a597384c612d7</td>\n      <td>cf3b218f1dde792</td>\n      <td>19e2e</td>\n      <td>19e2e</td>\n      <td>+Fs4mTvdKx</td>\n      <td>+Fs4mTvdKx</td>\n    </tr>\n    <tr>\n      <th>2</th>\n      <td>Voice</td>\n      <td>10</td>\n      <td>2012-05-08 23:02:59.0</td>\n      <td>1</td>\n      <td>5441a9a58c97132</td>\n      <td>52f8b299515b9b7</td>\n      <td>19e2e</td>\n      <td>19e2e</td>\n      <td>+ZaaZozy/+</td>\n      <td>+ZaaZozy/+</td>\n    </tr>\n    <tr>\n      <th>3</th>\n      <td>sms</td>\n      <td>0</td>\n      <td>2012-05-08 23:03:04.0</td>\n      <td>0</td>\n      <td>8ab8b9ed6989f61</td>\n      <td>e09e736e46c5c3d</td>\n      <td>19e2e</td>\n      <td>19e2e</td>\n      <td>+cNeJzsTp3</td>\n      <td>+cNeJzsTp3</td>\n    </tr>\n    <tr>\n      <th>4</th>\n      <td>Voice</td>\n      <td>22</td>\n      <td>2012-05-08 23:03:16.0</td>\n      <td>4</td>\n      <td>52662a62b199334</td>\n      <td>2186273faab4602</td>\n      <td>19e2e</td>\n      <td>19e2e</td>\n      <td>/eeMklgyJA</td>\n      <td>/eeMklgyJA</td>\n    </tr>\n  </tbody>\n</table>\n</div>"
     },
     "metadata": {},
     "execution_count": 4
    }
   ],
   "source": [
    "# To load the third dataset and preview\n",
    " \n",
    "\n",
    "df3 = pd.read_csv('data\\Telcom_dataset3.csv')\n",
    "\n",
    "df3.head()"
   ]
  },
  {
   "cell_type": "code",
   "execution_count": 5,
   "metadata": {},
   "outputs": [
    {
     "output_type": "execute_result",
     "data": {
      "text/plain": [
       "       Column name                                        Description   Format\n",
       "0          PRODUCT                                       Voice or SMS   String\n",
       "1            VALUE                                      Billing price  Integer\n",
       "2        DATE_TIME               Time in format yyyy-MM-dd hh:mm:ss.0   String\n",
       "3     CELL_ON_SITE  Which cell in the site was used (not needed here)  Integer\n",
       "4  DW_A_NUMBER_INT  Anonymized phone number of the person for whic...   String\n",
       "5  DW_B_NUMBER_INT        Anonymized phone number of the counterparty   String\n",
       "6        COUNTRY_A                  Country of party A (useless here)   String\n",
       "7        COUNTRY_B                  Country of party B (useless here)   String\n",
       "8          CELL_ID                                     ID of the cell   String\n",
       "9          SITE_ID                                     ID of the SITE   String"
      ],
      "text/html": "<div>\n<style scoped>\n    .dataframe tbody tr th:only-of-type {\n        vertical-align: middle;\n    }\n\n    .dataframe tbody tr th {\n        vertical-align: top;\n    }\n\n    .dataframe thead th {\n        text-align: right;\n    }\n</style>\n<table border=\"1\" class=\"dataframe\">\n  <thead>\n    <tr style=\"text-align: right;\">\n      <th></th>\n      <th>Column name</th>\n      <th>Description</th>\n      <th>Format</th>\n    </tr>\n  </thead>\n  <tbody>\n    <tr>\n      <th>0</th>\n      <td>PRODUCT</td>\n      <td>Voice or SMS</td>\n      <td>String</td>\n    </tr>\n    <tr>\n      <th>1</th>\n      <td>VALUE</td>\n      <td>Billing price</td>\n      <td>Integer</td>\n    </tr>\n    <tr>\n      <th>2</th>\n      <td>DATE_TIME</td>\n      <td>Time in format yyyy-MM-dd hh:mm:ss.0</td>\n      <td>String</td>\n    </tr>\n    <tr>\n      <th>3</th>\n      <td>CELL_ON_SITE</td>\n      <td>Which cell in the site was used (not needed here)</td>\n      <td>Integer</td>\n    </tr>\n    <tr>\n      <th>4</th>\n      <td>DW_A_NUMBER_INT</td>\n      <td>Anonymized phone number of the person for whic...</td>\n      <td>String</td>\n    </tr>\n    <tr>\n      <th>5</th>\n      <td>DW_B_NUMBER_INT</td>\n      <td>Anonymized phone number of the counterparty</td>\n      <td>String</td>\n    </tr>\n    <tr>\n      <th>6</th>\n      <td>COUNTRY_A</td>\n      <td>Country of party A (useless here)</td>\n      <td>String</td>\n    </tr>\n    <tr>\n      <th>7</th>\n      <td>COUNTRY_B</td>\n      <td>Country of party B (useless here)</td>\n      <td>String</td>\n    </tr>\n    <tr>\n      <th>8</th>\n      <td>CELL_ID</td>\n      <td>ID of the cell</td>\n      <td>String</td>\n    </tr>\n    <tr>\n      <th>9</th>\n      <td>SITE_ID</td>\n      <td>ID of the SITE</td>\n      <td>String</td>\n    </tr>\n  </tbody>\n</table>\n</div>"
     },
     "metadata": {},
     "execution_count": 5
    }
   ],
   "source": [
    "# To load the fourth dataset and preview\n",
    " \n",
    "df4 = pd.read_excel('data\\CDR_description.xlsx')\n",
    "df4"
   ]
  },
  {
   "cell_type": "code",
   "execution_count": 6,
   "metadata": {},
   "outputs": [
    {
     "output_type": "execute_result",
     "data": {
      "text/plain": [
       "     Column name                                        Description  Format\n",
       "0         VILLES                                               City  String\n",
       "1         STATUS                                  In Service or not  String\n",
       "2   LOCALISATION                                  in ABIDJAN or not  String\n",
       "3     DECOUPZONE                                  Geographical Zone  String\n",
       "4       ZONENAME                                       Name of Zone  String\n",
       "5      LONGITUDE                                          Longitude   Float\n",
       "6       LATITUDE                                           Latitude   Float\n",
       "7         REGION                                             Region  String\n",
       "8           AREA                                               Area  String\n",
       "9        CELL_ID                                     ID of the cell  String\n",
       "10     SITE_CODE  Site (there are several cells per site, severa...  String"
      ],
      "text/html": "<div>\n<style scoped>\n    .dataframe tbody tr th:only-of-type {\n        vertical-align: middle;\n    }\n\n    .dataframe tbody tr th {\n        vertical-align: top;\n    }\n\n    .dataframe thead th {\n        text-align: right;\n    }\n</style>\n<table border=\"1\" class=\"dataframe\">\n  <thead>\n    <tr style=\"text-align: right;\">\n      <th></th>\n      <th>Column name</th>\n      <th>Description</th>\n      <th>Format</th>\n    </tr>\n  </thead>\n  <tbody>\n    <tr>\n      <th>0</th>\n      <td>VILLES</td>\n      <td>City</td>\n      <td>String</td>\n    </tr>\n    <tr>\n      <th>1</th>\n      <td>STATUS</td>\n      <td>In Service or not</td>\n      <td>String</td>\n    </tr>\n    <tr>\n      <th>2</th>\n      <td>LOCALISATION</td>\n      <td>in ABIDJAN or not</td>\n      <td>String</td>\n    </tr>\n    <tr>\n      <th>3</th>\n      <td>DECOUPZONE</td>\n      <td>Geographical Zone</td>\n      <td>String</td>\n    </tr>\n    <tr>\n      <th>4</th>\n      <td>ZONENAME</td>\n      <td>Name of Zone</td>\n      <td>String</td>\n    </tr>\n    <tr>\n      <th>5</th>\n      <td>LONGITUDE</td>\n      <td>Longitude</td>\n      <td>Float</td>\n    </tr>\n    <tr>\n      <th>6</th>\n      <td>LATITUDE</td>\n      <td>Latitude</td>\n      <td>Float</td>\n    </tr>\n    <tr>\n      <th>7</th>\n      <td>REGION</td>\n      <td>Region</td>\n      <td>String</td>\n    </tr>\n    <tr>\n      <th>8</th>\n      <td>AREA</td>\n      <td>Area</td>\n      <td>String</td>\n    </tr>\n    <tr>\n      <th>9</th>\n      <td>CELL_ID</td>\n      <td>ID of the cell</td>\n      <td>String</td>\n    </tr>\n    <tr>\n      <th>10</th>\n      <td>SITE_CODE</td>\n      <td>Site (there are several cells per site, severa...</td>\n      <td>String</td>\n    </tr>\n  </tbody>\n</table>\n</div>"
     },
     "metadata": {},
     "execution_count": 6
    }
   ],
   "source": [
    "#To loard the fifth dataset and preview\n",
    "\n",
    "\n",
    "df5 = pd.read_excel('data\\cells_geo_description.xlsx')\n",
    "df5"
   ]
  },
  {
   "cell_type": "code",
   "execution_count": 7,
   "metadata": {},
   "outputs": [
    {
     "output_type": "execute_result",
     "data": {
      "text/plain": [
       "   Unnamed: 0   VILLES      STATUS LOCALISATION    DECOUPZONE  ZONENAME  \\\n",
       "0           0   ADJAME  In Service      ABIDJAN  \"Abidjan_EST  AGBANNEW   \n",
       "1           1   ADJAME  In Service      ABIDJAN  \"Abidjan_EST  AGBANNEW   \n",
       "2           2   ADJAME  In Service      ABIDJAN  \"Abidjan_EST  AGBANNEW   \n",
       "3           3  ASSINIE  In Service    INTERIEUR     Grand-EST  ASSINIE\"   \n",
       "4           4  ASSINIE  In Service    INTERIEUR     Grand-EST  ASSINIE\"   \n",
       "\n",
       "   LONGITUDE  LATITUDE     REGION AREA     CELL_ID   SITE_CODE  \n",
       "0  -4.000667  5.368194     LAGUNE  NaN  fbb2e75af3  0bb492ef17  \n",
       "1  -4.000667  5.368194     LAGUNE  NaN  1502501d78  0bb492ef17  \n",
       "2  -4.000667  5.368194     LAGUNE  NaN  0c2e182a0c  0bb492ef17  \n",
       "3  -3.488467  5.158761  SUD COMOE  NaN  69bdfc69fd  8a1e6ce31f  \n",
       "4  -3.488467  5.158761  SUD COMOE  NaN  7a1029d2ab  8a1e6ce31f  "
      ],
      "text/html": "<div>\n<style scoped>\n    .dataframe tbody tr th:only-of-type {\n        vertical-align: middle;\n    }\n\n    .dataframe tbody tr th {\n        vertical-align: top;\n    }\n\n    .dataframe thead th {\n        text-align: right;\n    }\n</style>\n<table border=\"1\" class=\"dataframe\">\n  <thead>\n    <tr style=\"text-align: right;\">\n      <th></th>\n      <th>Unnamed: 0</th>\n      <th>VILLES</th>\n      <th>STATUS</th>\n      <th>LOCALISATION</th>\n      <th>DECOUPZONE</th>\n      <th>ZONENAME</th>\n      <th>LONGITUDE</th>\n      <th>LATITUDE</th>\n      <th>REGION</th>\n      <th>AREA</th>\n      <th>CELL_ID</th>\n      <th>SITE_CODE</th>\n    </tr>\n  </thead>\n  <tbody>\n    <tr>\n      <th>0</th>\n      <td>0</td>\n      <td>ADJAME</td>\n      <td>In Service</td>\n      <td>ABIDJAN</td>\n      <td>\"Abidjan_EST</td>\n      <td>AGBANNEW</td>\n      <td>-4.000667</td>\n      <td>5.368194</td>\n      <td>LAGUNE</td>\n      <td>NaN</td>\n      <td>fbb2e75af3</td>\n      <td>0bb492ef17</td>\n    </tr>\n    <tr>\n      <th>1</th>\n      <td>1</td>\n      <td>ADJAME</td>\n      <td>In Service</td>\n      <td>ABIDJAN</td>\n      <td>\"Abidjan_EST</td>\n      <td>AGBANNEW</td>\n      <td>-4.000667</td>\n      <td>5.368194</td>\n      <td>LAGUNE</td>\n      <td>NaN</td>\n      <td>1502501d78</td>\n      <td>0bb492ef17</td>\n    </tr>\n    <tr>\n      <th>2</th>\n      <td>2</td>\n      <td>ADJAME</td>\n      <td>In Service</td>\n      <td>ABIDJAN</td>\n      <td>\"Abidjan_EST</td>\n      <td>AGBANNEW</td>\n      <td>-4.000667</td>\n      <td>5.368194</td>\n      <td>LAGUNE</td>\n      <td>NaN</td>\n      <td>0c2e182a0c</td>\n      <td>0bb492ef17</td>\n    </tr>\n    <tr>\n      <th>3</th>\n      <td>3</td>\n      <td>ASSINIE</td>\n      <td>In Service</td>\n      <td>INTERIEUR</td>\n      <td>Grand-EST</td>\n      <td>ASSINIE\"</td>\n      <td>-3.488467</td>\n      <td>5.158761</td>\n      <td>SUD COMOE</td>\n      <td>NaN</td>\n      <td>69bdfc69fd</td>\n      <td>8a1e6ce31f</td>\n    </tr>\n    <tr>\n      <th>4</th>\n      <td>4</td>\n      <td>ASSINIE</td>\n      <td>In Service</td>\n      <td>INTERIEUR</td>\n      <td>Grand-EST</td>\n      <td>ASSINIE\"</td>\n      <td>-3.488467</td>\n      <td>5.158761</td>\n      <td>SUD COMOE</td>\n      <td>NaN</td>\n      <td>7a1029d2ab</td>\n      <td>8a1e6ce31f</td>\n    </tr>\n  </tbody>\n</table>\n</div>"
     },
     "metadata": {},
     "execution_count": 7
    }
   ],
   "source": [
    "#To load the sixth dataset and preview\n",
    "df6 = pd.read_csv('data\\cells_geo.csv', delimiter =\";\")\n",
    "df6.head()"
   ]
  },
  {
   "cell_type": "code",
   "execution_count": 8,
   "metadata": {},
   "outputs": [],
   "source": [
    "# Changing the columns names\n",
    "# previewing the column names\n",
    "# change to lower case\n",
    "\n",
    "df1.columns\n",
    "\n",
    "\n",
    "columns = ['product', 'value', 'date_time', 'cell_on_site', 'dw_a_number_int',\n",
    "'dw_b_number_int', 'country_a', 'country_b', 'cell_id', 'site_id']"
   ]
  },
  {
   "cell_type": "code",
   "execution_count": 9,
   "metadata": {},
   "outputs": [
    {
     "output_type": "execute_result",
     "data": {
      "text/plain": [
       "  product  value              date_time cell_on_site  dw_a_number_int  \\\n",
       "0   Voice      0  2012-05-06 23:04:37.0            1  49fae048b547780   \n",
       "1     sms      0  2012-05-06 23:05:25.0            0  7a54a6eaee19e65   \n",
       "2     sms     25  2012-05-06 23:05:41.0            0  6008887b0207d82   \n",
       "3   Voice     56  2012-05-06 23:05:42.0            1  7370032e20f4e96   \n",
       "4   Voice     14  2012-05-06 23:06:29.0            1  966ba4656e38e62   \n",
       "\n",
       "   dw_b_number_int country_a country_b     cell_id     site_id  \n",
       "0  1a49f8b0ded9de6     19e2e     19e2e  /TJNe+Mmtu  /TJNe+Mmtu  \n",
       "1  93343ba6e41af95     19e2e     19e2e  /+cKZKIp41  /+cKZKIp41  \n",
       "2  7aacc9709ce0a20     19e2e     19e2e  /u0FSD+ahi  /u0FSD+ahi  \n",
       "3  6af4a60e74c91d3     19e2e     19e2e  +cNeJzsTp3  +cNeJzsTp3  \n",
       "4  02aa736ee555d5c     19e2e     19e2e  051KhYDCpv  051KhYDCpv  "
      ],
      "text/html": "<div>\n<style scoped>\n    .dataframe tbody tr th:only-of-type {\n        vertical-align: middle;\n    }\n\n    .dataframe tbody tr th {\n        vertical-align: top;\n    }\n\n    .dataframe thead th {\n        text-align: right;\n    }\n</style>\n<table border=\"1\" class=\"dataframe\">\n  <thead>\n    <tr style=\"text-align: right;\">\n      <th></th>\n      <th>product</th>\n      <th>value</th>\n      <th>date_time</th>\n      <th>cell_on_site</th>\n      <th>dw_a_number_int</th>\n      <th>dw_b_number_int</th>\n      <th>country_a</th>\n      <th>country_b</th>\n      <th>cell_id</th>\n      <th>site_id</th>\n    </tr>\n  </thead>\n  <tbody>\n    <tr>\n      <th>0</th>\n      <td>Voice</td>\n      <td>0</td>\n      <td>2012-05-06 23:04:37.0</td>\n      <td>1</td>\n      <td>49fae048b547780</td>\n      <td>1a49f8b0ded9de6</td>\n      <td>19e2e</td>\n      <td>19e2e</td>\n      <td>/TJNe+Mmtu</td>\n      <td>/TJNe+Mmtu</td>\n    </tr>\n    <tr>\n      <th>1</th>\n      <td>sms</td>\n      <td>0</td>\n      <td>2012-05-06 23:05:25.0</td>\n      <td>0</td>\n      <td>7a54a6eaee19e65</td>\n      <td>93343ba6e41af95</td>\n      <td>19e2e</td>\n      <td>19e2e</td>\n      <td>/+cKZKIp41</td>\n      <td>/+cKZKIp41</td>\n    </tr>\n    <tr>\n      <th>2</th>\n      <td>sms</td>\n      <td>25</td>\n      <td>2012-05-06 23:05:41.0</td>\n      <td>0</td>\n      <td>6008887b0207d82</td>\n      <td>7aacc9709ce0a20</td>\n      <td>19e2e</td>\n      <td>19e2e</td>\n      <td>/u0FSD+ahi</td>\n      <td>/u0FSD+ahi</td>\n    </tr>\n    <tr>\n      <th>3</th>\n      <td>Voice</td>\n      <td>56</td>\n      <td>2012-05-06 23:05:42.0</td>\n      <td>1</td>\n      <td>7370032e20f4e96</td>\n      <td>6af4a60e74c91d3</td>\n      <td>19e2e</td>\n      <td>19e2e</td>\n      <td>+cNeJzsTp3</td>\n      <td>+cNeJzsTp3</td>\n    </tr>\n    <tr>\n      <th>4</th>\n      <td>Voice</td>\n      <td>14</td>\n      <td>2012-05-06 23:06:29.0</td>\n      <td>1</td>\n      <td>966ba4656e38e62</td>\n      <td>02aa736ee555d5c</td>\n      <td>19e2e</td>\n      <td>19e2e</td>\n      <td>051KhYDCpv</td>\n      <td>051KhYDCpv</td>\n    </tr>\n  </tbody>\n</table>\n</div>"
     },
     "metadata": {},
     "execution_count": 9
    }
   ],
   "source": [
    "\n",
    "# changing columns titles for dataset 1\n",
    "df1.columns = columns\n",
    "df1.head()"
   ]
  },
  {
   "cell_type": "code",
   "execution_count": 10,
   "metadata": {},
   "outputs": [
    {
     "output_type": "execute_result",
     "data": {
      "text/plain": [
       "  product  value              date_time cell_on_site  dw_a_number_int  \\\n",
       "0     sms      0  2012-05-07 23:02:06.0            2  32255675c3b6fe3   \n",
       "1   Voice      0  2012-05-07 23:03:44.0            1  ff16d6ac74c1c64   \n",
       "2     sms      0  2012-05-07 23:04:06.0            0  98d9f2fb5ff624b   \n",
       "3   Voice     37  2012-05-07 23:04:48.0            1  3f9c8a33ec7be1f   \n",
       "4     sms     25  2012-05-07 23:04:58.0            1  7bcccc03adf3864   \n",
       "\n",
       "   dw_b_number_int country_a country_b     cell_id     site_id  \n",
       "0  1aa7ae01386e9fb     19e2e     19e2e  +854AcBQT2  +854AcBQT2  \n",
       "1  87d87309c15a8c9     19e2e     19e2e  +854AcBQT2  +854AcBQT2  \n",
       "2  93343ba6e41af95     19e2e     19e2e  +laSrk7g6q  +laSrk7g6q  \n",
       "3  7d05a38f89c49d8     19e2e     19e2e  /xvRrCVKoQ  /xvRrCVKoQ  \n",
       "4  56a5d5430d2fa86     19e2e     19e2e  +bO+qkSonO  +bO+qkSonO  "
      ],
      "text/html": "<div>\n<style scoped>\n    .dataframe tbody tr th:only-of-type {\n        vertical-align: middle;\n    }\n\n    .dataframe tbody tr th {\n        vertical-align: top;\n    }\n\n    .dataframe thead th {\n        text-align: right;\n    }\n</style>\n<table border=\"1\" class=\"dataframe\">\n  <thead>\n    <tr style=\"text-align: right;\">\n      <th></th>\n      <th>product</th>\n      <th>value</th>\n      <th>date_time</th>\n      <th>cell_on_site</th>\n      <th>dw_a_number_int</th>\n      <th>dw_b_number_int</th>\n      <th>country_a</th>\n      <th>country_b</th>\n      <th>cell_id</th>\n      <th>site_id</th>\n    </tr>\n  </thead>\n  <tbody>\n    <tr>\n      <th>0</th>\n      <td>sms</td>\n      <td>0</td>\n      <td>2012-05-07 23:02:06.0</td>\n      <td>2</td>\n      <td>32255675c3b6fe3</td>\n      <td>1aa7ae01386e9fb</td>\n      <td>19e2e</td>\n      <td>19e2e</td>\n      <td>+854AcBQT2</td>\n      <td>+854AcBQT2</td>\n    </tr>\n    <tr>\n      <th>1</th>\n      <td>Voice</td>\n      <td>0</td>\n      <td>2012-05-07 23:03:44.0</td>\n      <td>1</td>\n      <td>ff16d6ac74c1c64</td>\n      <td>87d87309c15a8c9</td>\n      <td>19e2e</td>\n      <td>19e2e</td>\n      <td>+854AcBQT2</td>\n      <td>+854AcBQT2</td>\n    </tr>\n    <tr>\n      <th>2</th>\n      <td>sms</td>\n      <td>0</td>\n      <td>2012-05-07 23:04:06.0</td>\n      <td>0</td>\n      <td>98d9f2fb5ff624b</td>\n      <td>93343ba6e41af95</td>\n      <td>19e2e</td>\n      <td>19e2e</td>\n      <td>+laSrk7g6q</td>\n      <td>+laSrk7g6q</td>\n    </tr>\n    <tr>\n      <th>3</th>\n      <td>Voice</td>\n      <td>37</td>\n      <td>2012-05-07 23:04:48.0</td>\n      <td>1</td>\n      <td>3f9c8a33ec7be1f</td>\n      <td>7d05a38f89c49d8</td>\n      <td>19e2e</td>\n      <td>19e2e</td>\n      <td>/xvRrCVKoQ</td>\n      <td>/xvRrCVKoQ</td>\n    </tr>\n    <tr>\n      <th>4</th>\n      <td>sms</td>\n      <td>25</td>\n      <td>2012-05-07 23:04:58.0</td>\n      <td>1</td>\n      <td>7bcccc03adf3864</td>\n      <td>56a5d5430d2fa86</td>\n      <td>19e2e</td>\n      <td>19e2e</td>\n      <td>+bO+qkSonO</td>\n      <td>+bO+qkSonO</td>\n    </tr>\n  </tbody>\n</table>\n</div>"
     },
     "metadata": {},
     "execution_count": 10
    }
   ],
   "source": [
    "# changing columns titles for dataset 2\n",
    "\n",
    "df2.columns = columns\n",
    "df2.head()"
   ]
  },
  {
   "cell_type": "code",
   "execution_count": 11,
   "metadata": {},
   "outputs": [
    {
     "output_type": "execute_result",
     "data": {
      "text/plain": [
       "  product  value              date_time cell_on_site  dw_a_number_int  \\\n",
       "0   Voice     61  2012-05-08 23:01:28.0            2  966f68353622feb   \n",
       "1     sms      0  2012-05-08 23:01:31.0            1  a0a597384c612d7   \n",
       "2   Voice     10  2012-05-08 23:02:59.0            1  5441a9a58c97132   \n",
       "3     sms      0  2012-05-08 23:03:04.0            0  8ab8b9ed6989f61   \n",
       "4   Voice     22  2012-05-08 23:03:16.0            4  52662a62b199334   \n",
       "\n",
       "   dw_b_number_int country_a country_b     cell_id     site_id  \n",
       "0  ffd53a3bb2db6f1     19e2e     19e2e  +38u2u/rfx  +38u2u/rfx  \n",
       "1  cf3b218f1dde792     19e2e     19e2e  +Fs4mTvdKx  +Fs4mTvdKx  \n",
       "2  52f8b299515b9b7     19e2e     19e2e  +ZaaZozy/+  +ZaaZozy/+  \n",
       "3  e09e736e46c5c3d     19e2e     19e2e  +cNeJzsTp3  +cNeJzsTp3  \n",
       "4  2186273faab4602     19e2e     19e2e  /eeMklgyJA  /eeMklgyJA  "
      ],
      "text/html": "<div>\n<style scoped>\n    .dataframe tbody tr th:only-of-type {\n        vertical-align: middle;\n    }\n\n    .dataframe tbody tr th {\n        vertical-align: top;\n    }\n\n    .dataframe thead th {\n        text-align: right;\n    }\n</style>\n<table border=\"1\" class=\"dataframe\">\n  <thead>\n    <tr style=\"text-align: right;\">\n      <th></th>\n      <th>product</th>\n      <th>value</th>\n      <th>date_time</th>\n      <th>cell_on_site</th>\n      <th>dw_a_number_int</th>\n      <th>dw_b_number_int</th>\n      <th>country_a</th>\n      <th>country_b</th>\n      <th>cell_id</th>\n      <th>site_id</th>\n    </tr>\n  </thead>\n  <tbody>\n    <tr>\n      <th>0</th>\n      <td>Voice</td>\n      <td>61</td>\n      <td>2012-05-08 23:01:28.0</td>\n      <td>2</td>\n      <td>966f68353622feb</td>\n      <td>ffd53a3bb2db6f1</td>\n      <td>19e2e</td>\n      <td>19e2e</td>\n      <td>+38u2u/rfx</td>\n      <td>+38u2u/rfx</td>\n    </tr>\n    <tr>\n      <th>1</th>\n      <td>sms</td>\n      <td>0</td>\n      <td>2012-05-08 23:01:31.0</td>\n      <td>1</td>\n      <td>a0a597384c612d7</td>\n      <td>cf3b218f1dde792</td>\n      <td>19e2e</td>\n      <td>19e2e</td>\n      <td>+Fs4mTvdKx</td>\n      <td>+Fs4mTvdKx</td>\n    </tr>\n    <tr>\n      <th>2</th>\n      <td>Voice</td>\n      <td>10</td>\n      <td>2012-05-08 23:02:59.0</td>\n      <td>1</td>\n      <td>5441a9a58c97132</td>\n      <td>52f8b299515b9b7</td>\n      <td>19e2e</td>\n      <td>19e2e</td>\n      <td>+ZaaZozy/+</td>\n      <td>+ZaaZozy/+</td>\n    </tr>\n    <tr>\n      <th>3</th>\n      <td>sms</td>\n      <td>0</td>\n      <td>2012-05-08 23:03:04.0</td>\n      <td>0</td>\n      <td>8ab8b9ed6989f61</td>\n      <td>e09e736e46c5c3d</td>\n      <td>19e2e</td>\n      <td>19e2e</td>\n      <td>+cNeJzsTp3</td>\n      <td>+cNeJzsTp3</td>\n    </tr>\n    <tr>\n      <th>4</th>\n      <td>Voice</td>\n      <td>22</td>\n      <td>2012-05-08 23:03:16.0</td>\n      <td>4</td>\n      <td>52662a62b199334</td>\n      <td>2186273faab4602</td>\n      <td>19e2e</td>\n      <td>19e2e</td>\n      <td>/eeMklgyJA</td>\n      <td>/eeMklgyJA</td>\n    </tr>\n  </tbody>\n</table>\n</div>"
     },
     "metadata": {},
     "execution_count": 11
    }
   ],
   "source": [
    "# changing columns titles for dataset 3\n",
    "\n",
    "df3.columns = columns\n",
    "df3.head()"
   ]
  },
  {
   "cell_type": "code",
   "execution_count": 12,
   "metadata": {},
   "outputs": [
    {
     "output_type": "execute_result",
     "data": {
      "text/plain": [
       "      product  value              date_time cell_on_site  dw_a_number_int  \\\n",
       "14998   Voice      0  2012-05-09 00:01:43.0            3  467333ade2b4b9c   \n",
       "14999   Voice     62  2012-05-09 00:01:43.0            1  e077a6b74c5053c   \n",
       "15000   Voice     32  2012-05-09 00:01:43.0            1  77f53c39d27c050   \n",
       "15001   Voice     30  2012-05-09 00:01:43.0            2  672ce74c418aa7a   \n",
       "15002   Voice     60  2012-05-09 00:01:43.0            2  6edeb4c55714650   \n",
       "\n",
       "       dw_b_number_int country_a country_b     cell_id     site_id  \n",
       "14998  0ab2acd804d01fe     19e2e     19e2e  2aa04dcab7  f7d63a29e5  \n",
       "14999  4c8098eb6ea1a41     19e2e     19e2e  7f1f2f889f  b4ddb9e93c  \n",
       "15000  9d064f013e2cab2     19e2e     19e2e  a4731e780e  d68260ef50  \n",
       "15001  f9ff5af59cf0d68     19e2e     19e2e  98ed726da2  b4130b54ab  \n",
       "15002  7e60838216482a7     19e2e     19e2e  1c11a2fcbb  6d70dae094  "
      ],
      "text/html": "<div>\n<style scoped>\n    .dataframe tbody tr th:only-of-type {\n        vertical-align: middle;\n    }\n\n    .dataframe tbody tr th {\n        vertical-align: top;\n    }\n\n    .dataframe thead th {\n        text-align: right;\n    }\n</style>\n<table border=\"1\" class=\"dataframe\">\n  <thead>\n    <tr style=\"text-align: right;\">\n      <th></th>\n      <th>product</th>\n      <th>value</th>\n      <th>date_time</th>\n      <th>cell_on_site</th>\n      <th>dw_a_number_int</th>\n      <th>dw_b_number_int</th>\n      <th>country_a</th>\n      <th>country_b</th>\n      <th>cell_id</th>\n      <th>site_id</th>\n    </tr>\n  </thead>\n  <tbody>\n    <tr>\n      <th>14998</th>\n      <td>Voice</td>\n      <td>0</td>\n      <td>2012-05-09 00:01:43.0</td>\n      <td>3</td>\n      <td>467333ade2b4b9c</td>\n      <td>0ab2acd804d01fe</td>\n      <td>19e2e</td>\n      <td>19e2e</td>\n      <td>2aa04dcab7</td>\n      <td>f7d63a29e5</td>\n    </tr>\n    <tr>\n      <th>14999</th>\n      <td>Voice</td>\n      <td>62</td>\n      <td>2012-05-09 00:01:43.0</td>\n      <td>1</td>\n      <td>e077a6b74c5053c</td>\n      <td>4c8098eb6ea1a41</td>\n      <td>19e2e</td>\n      <td>19e2e</td>\n      <td>7f1f2f889f</td>\n      <td>b4ddb9e93c</td>\n    </tr>\n    <tr>\n      <th>15000</th>\n      <td>Voice</td>\n      <td>32</td>\n      <td>2012-05-09 00:01:43.0</td>\n      <td>1</td>\n      <td>77f53c39d27c050</td>\n      <td>9d064f013e2cab2</td>\n      <td>19e2e</td>\n      <td>19e2e</td>\n      <td>a4731e780e</td>\n      <td>d68260ef50</td>\n    </tr>\n    <tr>\n      <th>15001</th>\n      <td>Voice</td>\n      <td>30</td>\n      <td>2012-05-09 00:01:43.0</td>\n      <td>2</td>\n      <td>672ce74c418aa7a</td>\n      <td>f9ff5af59cf0d68</td>\n      <td>19e2e</td>\n      <td>19e2e</td>\n      <td>98ed726da2</td>\n      <td>b4130b54ab</td>\n    </tr>\n    <tr>\n      <th>15002</th>\n      <td>Voice</td>\n      <td>60</td>\n      <td>2012-05-09 00:01:43.0</td>\n      <td>2</td>\n      <td>6edeb4c55714650</td>\n      <td>7e60838216482a7</td>\n      <td>19e2e</td>\n      <td>19e2e</td>\n      <td>1c11a2fcbb</td>\n      <td>6d70dae094</td>\n    </tr>\n  </tbody>\n</table>\n</div>"
     },
     "metadata": {},
     "execution_count": 12
    }
   ],
   "source": [
    "\n",
    "# combining the three datasets using concatenation\n",
    "df_combine = pd.concat([df1,df2,df3], ignore_index = 1)\n",
    "df_combine.tail()"
   ]
  },
  {
   "cell_type": "code",
   "execution_count": 25,
   "metadata": {},
   "outputs": [
    {
     "output_type": "execute_result",
     "data": {
      "text/plain": [
       "0     12984\n",
       "23     2019\n",
       "Name: date_time, dtype: int64"
      ]
     },
     "metadata": {},
     "execution_count": 25
    }
   ],
   "source": [
    "#this shows the busiest time is the midnight hours\n",
    "import datetime as dt\n",
    "df_combine.date_time.astype('datetime64[ns]').dt.hour.value_counts()"
   ]
  },
  {
   "cell_type": "code",
   "execution_count": 13,
   "metadata": {},
   "outputs": [
    {
     "output_type": "execute_result",
     "data": {
      "text/plain": [
       "      product  value              date_time cell_on_site  dw_a_number_int  \\\n",
       "51356   Voice     17  2012-05-09 00:01:42.0            4  22e493a92442b73   \n",
       "51357   Voice     17  2012-05-09 00:01:42.0            4  22e493a92442b73   \n",
       "51358     sms      0  2012-05-09 00:01:43.0            2  32e2e7c90a9b0e9   \n",
       "51359     sms      0  2012-05-09 00:01:43.0            2  32e2e7c90a9b0e9   \n",
       "51360     sms      0  2012-05-09 00:01:43.0            2  32e2e7c90a9b0e9   \n",
       "\n",
       "       dw_b_number_int country_a country_b     cell_id     site_id  ...  \\\n",
       "51356  c9e2c9c2fa3795a     19e2e     19e2e  2f50f4a1fb  cc45940406  ...   \n",
       "51357  c9e2c9c2fa3795a     19e2e     19e2e  2f50f4a1fb  cc45940406  ...   \n",
       "51358  32e2e7c90a9b0e9     19e2e     19e2e  25c671778e  ab91f5b21d  ...   \n",
       "51359  32e2e7c90a9b0e9     19e2e     19e2e  25c671778e  ab91f5b21d  ...   \n",
       "51360  32e2e7c90a9b0e9     19e2e     19e2e  25c671778e  ab91f5b21d  ...   \n",
       "\n",
       "           STATUS LOCALISATION      DECOUPZONE                 ZONENAME  \\\n",
       "51356  In Service      ABIDJAN  Abidjan_CENTRE  ZONE B - Abidjan_CENTRE   \n",
       "51357  In Service      ABIDJAN  Abidjan_CENTRE  ZONE B - Abidjan_CENTRE   \n",
       "51358  In Service    INTERIEUR      Grand-NORD      ZONE A - Grand-NORD   \n",
       "51359  In Service    INTERIEUR      Grand-NORD      ZONE A - Grand-NORD   \n",
       "51360  In Service    INTERIEUR      Grand-NORD      ZONE A - Grand-NORD   \n",
       "\n",
       "      LONGITUDE  LATITUDE             REGION           AREA     CELL_ID  \\\n",
       "51356 -4.023247  5.349442             LAGUNE  ABIDJAN NORTH  c179f33d5e   \n",
       "51357 -4.023247  5.349442             LAGUNE  ABIDJAN NORTH  0a3f751619   \n",
       "51358 -5.171778  7.777056  VALLEE DU BANDAMA   CENTRE NORTH  0427a26d34   \n",
       "51359 -5.171778  7.777056  VALLEE DU BANDAMA   CENTRE NORTH  7c72293cf2   \n",
       "51360 -5.171778  7.777056  VALLEE DU BANDAMA   CENTRE NORTH  be18b5b981   \n",
       "\n",
       "        SITE_CODE  \n",
       "51356  cc45940406  \n",
       "51357  cc45940406  \n",
       "51358  ab91f5b21d  \n",
       "51359  ab91f5b21d  \n",
       "51360  ab91f5b21d  \n",
       "\n",
       "[5 rows x 22 columns]"
      ],
      "text/html": "<div>\n<style scoped>\n    .dataframe tbody tr th:only-of-type {\n        vertical-align: middle;\n    }\n\n    .dataframe tbody tr th {\n        vertical-align: top;\n    }\n\n    .dataframe thead th {\n        text-align: right;\n    }\n</style>\n<table border=\"1\" class=\"dataframe\">\n  <thead>\n    <tr style=\"text-align: right;\">\n      <th></th>\n      <th>product</th>\n      <th>value</th>\n      <th>date_time</th>\n      <th>cell_on_site</th>\n      <th>dw_a_number_int</th>\n      <th>dw_b_number_int</th>\n      <th>country_a</th>\n      <th>country_b</th>\n      <th>cell_id</th>\n      <th>site_id</th>\n      <th>...</th>\n      <th>STATUS</th>\n      <th>LOCALISATION</th>\n      <th>DECOUPZONE</th>\n      <th>ZONENAME</th>\n      <th>LONGITUDE</th>\n      <th>LATITUDE</th>\n      <th>REGION</th>\n      <th>AREA</th>\n      <th>CELL_ID</th>\n      <th>SITE_CODE</th>\n    </tr>\n  </thead>\n  <tbody>\n    <tr>\n      <th>51356</th>\n      <td>Voice</td>\n      <td>17</td>\n      <td>2012-05-09 00:01:42.0</td>\n      <td>4</td>\n      <td>22e493a92442b73</td>\n      <td>c9e2c9c2fa3795a</td>\n      <td>19e2e</td>\n      <td>19e2e</td>\n      <td>2f50f4a1fb</td>\n      <td>cc45940406</td>\n      <td>...</td>\n      <td>In Service</td>\n      <td>ABIDJAN</td>\n      <td>Abidjan_CENTRE</td>\n      <td>ZONE B - Abidjan_CENTRE</td>\n      <td>-4.023247</td>\n      <td>5.349442</td>\n      <td>LAGUNE</td>\n      <td>ABIDJAN NORTH</td>\n      <td>c179f33d5e</td>\n      <td>cc45940406</td>\n    </tr>\n    <tr>\n      <th>51357</th>\n      <td>Voice</td>\n      <td>17</td>\n      <td>2012-05-09 00:01:42.0</td>\n      <td>4</td>\n      <td>22e493a92442b73</td>\n      <td>c9e2c9c2fa3795a</td>\n      <td>19e2e</td>\n      <td>19e2e</td>\n      <td>2f50f4a1fb</td>\n      <td>cc45940406</td>\n      <td>...</td>\n      <td>In Service</td>\n      <td>ABIDJAN</td>\n      <td>Abidjan_CENTRE</td>\n      <td>ZONE B - Abidjan_CENTRE</td>\n      <td>-4.023247</td>\n      <td>5.349442</td>\n      <td>LAGUNE</td>\n      <td>ABIDJAN NORTH</td>\n      <td>0a3f751619</td>\n      <td>cc45940406</td>\n    </tr>\n    <tr>\n      <th>51358</th>\n      <td>sms</td>\n      <td>0</td>\n      <td>2012-05-09 00:01:43.0</td>\n      <td>2</td>\n      <td>32e2e7c90a9b0e9</td>\n      <td>32e2e7c90a9b0e9</td>\n      <td>19e2e</td>\n      <td>19e2e</td>\n      <td>25c671778e</td>\n      <td>ab91f5b21d</td>\n      <td>...</td>\n      <td>In Service</td>\n      <td>INTERIEUR</td>\n      <td>Grand-NORD</td>\n      <td>ZONE A - Grand-NORD</td>\n      <td>-5.171778</td>\n      <td>7.777056</td>\n      <td>VALLEE DU BANDAMA</td>\n      <td>CENTRE NORTH</td>\n      <td>0427a26d34</td>\n      <td>ab91f5b21d</td>\n    </tr>\n    <tr>\n      <th>51359</th>\n      <td>sms</td>\n      <td>0</td>\n      <td>2012-05-09 00:01:43.0</td>\n      <td>2</td>\n      <td>32e2e7c90a9b0e9</td>\n      <td>32e2e7c90a9b0e9</td>\n      <td>19e2e</td>\n      <td>19e2e</td>\n      <td>25c671778e</td>\n      <td>ab91f5b21d</td>\n      <td>...</td>\n      <td>In Service</td>\n      <td>INTERIEUR</td>\n      <td>Grand-NORD</td>\n      <td>ZONE A - Grand-NORD</td>\n      <td>-5.171778</td>\n      <td>7.777056</td>\n      <td>VALLEE DU BANDAMA</td>\n      <td>CENTRE NORTH</td>\n      <td>7c72293cf2</td>\n      <td>ab91f5b21d</td>\n    </tr>\n    <tr>\n      <th>51360</th>\n      <td>sms</td>\n      <td>0</td>\n      <td>2012-05-09 00:01:43.0</td>\n      <td>2</td>\n      <td>32e2e7c90a9b0e9</td>\n      <td>32e2e7c90a9b0e9</td>\n      <td>19e2e</td>\n      <td>19e2e</td>\n      <td>25c671778e</td>\n      <td>ab91f5b21d</td>\n      <td>...</td>\n      <td>In Service</td>\n      <td>INTERIEUR</td>\n      <td>Grand-NORD</td>\n      <td>ZONE A - Grand-NORD</td>\n      <td>-5.171778</td>\n      <td>7.777056</td>\n      <td>VALLEE DU BANDAMA</td>\n      <td>CENTRE NORTH</td>\n      <td>be18b5b981</td>\n      <td>ab91f5b21d</td>\n    </tr>\n  </tbody>\n</table>\n<p>5 rows × 22 columns</p>\n</div>"
     },
     "metadata": {},
     "execution_count": 13
    }
   ],
   "source": [
    "#combine the 6th dataset with the already combined datasets\n",
    "df_comb=pd.merge(df_combine,df6,how='inner', left_on=\"site_id\", right_on=\"SITE_CODE\")\n",
    "df_comb.tail()"
   ]
  },
  {
   "cell_type": "code",
   "execution_count": 14,
   "metadata": {},
   "outputs": [
    {
     "output_type": "execute_result",
     "data": {
      "text/plain": [
       "  product  value              date_time  dw_a_number_int  dw_b_number_int  \\\n",
       "0     sms      0  2012-05-07 00:00:00.0  8118c3aa53d6c7b  1d103ea638ad1f0   \n",
       "1     sms      0  2012-05-07 00:00:00.0  8118c3aa53d6c7b  1d103ea638ad1f0   \n",
       "2     sms      0  2012-05-07 00:00:00.0  8118c3aa53d6c7b  1d103ea638ad1f0   \n",
       "3     sms      0  2012-05-07 00:00:00.0  8118c3aa53d6c7b  1d103ea638ad1f0   \n",
       "4     sms      0  2012-05-07 00:00:00.0  8118c3aa53d6c7b  1d103ea638ad1f0   \n",
       "\n",
       "      cell_id     site_id  Unnamed: 0  VILLES      STATUS LOCALISATION  \\\n",
       "0  5d9dc897f7  1b5540c02d         972  BOUAKE  In Service    INTERIEUR   \n",
       "1  5d9dc897f7  1b5540c02d         973  BOUAKE  In Service    INTERIEUR   \n",
       "2  5d9dc897f7  1b5540c02d         974  BOUAKE  In Service    INTERIEUR   \n",
       "3  5d9dc897f7  1b5540c02d         975  BOUAKE  In Service    INTERIEUR   \n",
       "4  5d9dc897f7  1b5540c02d         976  BOUAKE  In Service    INTERIEUR   \n",
       "\n",
       "   DECOUPZONE             ZONENAME  LONGITUDE  LATITUDE             REGION  \\\n",
       "0  Grand-NORD  ZONE A - Grand-NORD  -5.027139  7.718417  VALLEE DU BANDAMA   \n",
       "1  Grand-NORD  ZONE A - Grand-NORD  -5.027139  7.718417  VALLEE DU BANDAMA   \n",
       "2  Grand-NORD  ZONE A - Grand-NORD  -5.027139  7.718417  VALLEE DU BANDAMA   \n",
       "3  Grand-NORD  ZONE A - Grand-NORD  -5.027139  7.718417  VALLEE DU BANDAMA   \n",
       "4  Grand-NORD  ZONE A - Grand-NORD  -5.027139  7.718417  VALLEE DU BANDAMA   \n",
       "\n",
       "           AREA     CELL_ID   SITE_CODE  \n",
       "0  CENTRE NORTH  24ccdda3d5  1b5540c02d  \n",
       "1  CENTRE NORTH  ebfc58af70  1b5540c02d  \n",
       "2  CENTRE NORTH  ba8ce6e4ef  1b5540c02d  \n",
       "3  CENTRE NORTH  c2545171dc  1b5540c02d  \n",
       "4  CENTRE NORTH  f15bd5483f  1b5540c02d  "
      ],
      "text/html": "<div>\n<style scoped>\n    .dataframe tbody tr th:only-of-type {\n        vertical-align: middle;\n    }\n\n    .dataframe tbody tr th {\n        vertical-align: top;\n    }\n\n    .dataframe thead th {\n        text-align: right;\n    }\n</style>\n<table border=\"1\" class=\"dataframe\">\n  <thead>\n    <tr style=\"text-align: right;\">\n      <th></th>\n      <th>product</th>\n      <th>value</th>\n      <th>date_time</th>\n      <th>dw_a_number_int</th>\n      <th>dw_b_number_int</th>\n      <th>cell_id</th>\n      <th>site_id</th>\n      <th>Unnamed: 0</th>\n      <th>VILLES</th>\n      <th>STATUS</th>\n      <th>LOCALISATION</th>\n      <th>DECOUPZONE</th>\n      <th>ZONENAME</th>\n      <th>LONGITUDE</th>\n      <th>LATITUDE</th>\n      <th>REGION</th>\n      <th>AREA</th>\n      <th>CELL_ID</th>\n      <th>SITE_CODE</th>\n    </tr>\n  </thead>\n  <tbody>\n    <tr>\n      <th>0</th>\n      <td>sms</td>\n      <td>0</td>\n      <td>2012-05-07 00:00:00.0</td>\n      <td>8118c3aa53d6c7b</td>\n      <td>1d103ea638ad1f0</td>\n      <td>5d9dc897f7</td>\n      <td>1b5540c02d</td>\n      <td>972</td>\n      <td>BOUAKE</td>\n      <td>In Service</td>\n      <td>INTERIEUR</td>\n      <td>Grand-NORD</td>\n      <td>ZONE A - Grand-NORD</td>\n      <td>-5.027139</td>\n      <td>7.718417</td>\n      <td>VALLEE DU BANDAMA</td>\n      <td>CENTRE NORTH</td>\n      <td>24ccdda3d5</td>\n      <td>1b5540c02d</td>\n    </tr>\n    <tr>\n      <th>1</th>\n      <td>sms</td>\n      <td>0</td>\n      <td>2012-05-07 00:00:00.0</td>\n      <td>8118c3aa53d6c7b</td>\n      <td>1d103ea638ad1f0</td>\n      <td>5d9dc897f7</td>\n      <td>1b5540c02d</td>\n      <td>973</td>\n      <td>BOUAKE</td>\n      <td>In Service</td>\n      <td>INTERIEUR</td>\n      <td>Grand-NORD</td>\n      <td>ZONE A - Grand-NORD</td>\n      <td>-5.027139</td>\n      <td>7.718417</td>\n      <td>VALLEE DU BANDAMA</td>\n      <td>CENTRE NORTH</td>\n      <td>ebfc58af70</td>\n      <td>1b5540c02d</td>\n    </tr>\n    <tr>\n      <th>2</th>\n      <td>sms</td>\n      <td>0</td>\n      <td>2012-05-07 00:00:00.0</td>\n      <td>8118c3aa53d6c7b</td>\n      <td>1d103ea638ad1f0</td>\n      <td>5d9dc897f7</td>\n      <td>1b5540c02d</td>\n      <td>974</td>\n      <td>BOUAKE</td>\n      <td>In Service</td>\n      <td>INTERIEUR</td>\n      <td>Grand-NORD</td>\n      <td>ZONE A - Grand-NORD</td>\n      <td>-5.027139</td>\n      <td>7.718417</td>\n      <td>VALLEE DU BANDAMA</td>\n      <td>CENTRE NORTH</td>\n      <td>ba8ce6e4ef</td>\n      <td>1b5540c02d</td>\n    </tr>\n    <tr>\n      <th>3</th>\n      <td>sms</td>\n      <td>0</td>\n      <td>2012-05-07 00:00:00.0</td>\n      <td>8118c3aa53d6c7b</td>\n      <td>1d103ea638ad1f0</td>\n      <td>5d9dc897f7</td>\n      <td>1b5540c02d</td>\n      <td>975</td>\n      <td>BOUAKE</td>\n      <td>In Service</td>\n      <td>INTERIEUR</td>\n      <td>Grand-NORD</td>\n      <td>ZONE A - Grand-NORD</td>\n      <td>-5.027139</td>\n      <td>7.718417</td>\n      <td>VALLEE DU BANDAMA</td>\n      <td>CENTRE NORTH</td>\n      <td>c2545171dc</td>\n      <td>1b5540c02d</td>\n    </tr>\n    <tr>\n      <th>4</th>\n      <td>sms</td>\n      <td>0</td>\n      <td>2012-05-07 00:00:00.0</td>\n      <td>8118c3aa53d6c7b</td>\n      <td>1d103ea638ad1f0</td>\n      <td>5d9dc897f7</td>\n      <td>1b5540c02d</td>\n      <td>976</td>\n      <td>BOUAKE</td>\n      <td>In Service</td>\n      <td>INTERIEUR</td>\n      <td>Grand-NORD</td>\n      <td>ZONE A - Grand-NORD</td>\n      <td>-5.027139</td>\n      <td>7.718417</td>\n      <td>VALLEE DU BANDAMA</td>\n      <td>CENTRE NORTH</td>\n      <td>f15bd5483f</td>\n      <td>1b5540c02d</td>\n    </tr>\n  </tbody>\n</table>\n</div>"
     },
     "metadata": {},
     "execution_count": 14
    }
   ],
   "source": [
    "# Dropping unnecessary columns from all the merged datasets\n",
    "\n",
    "df_combine_cleaned = df_comb.drop(columns = ['country_a' ,\t'country_b' ,'cell_on_site'])\n",
    "df_combine_cleaned.head()"
   ]
  },
  {
   "cell_type": "code",
   "execution_count": 15,
   "metadata": {},
   "outputs": [
    {
     "output_type": "execute_result",
     "data": {
      "text/plain": [
       "YOPOUGON        8720\n",
       "ABOBO           6266\n",
       "COCODY          3814\n",
       "ADJAME          2703\n",
       "KOUMASSI        2333\n",
       "                ... \n",
       "LOGOUALE           3\n",
       "GRAND BEREBY       3\n",
       "BROFODOUME         3\n",
       "DANANON            2\n",
       "KOTOULA            2\n",
       "Name: VILLES, Length: 400, dtype: int64"
      ]
     },
     "metadata": {},
     "execution_count": 15
    }
   ],
   "source": [
    "#finding out which city used telecom the most\n",
    "df_combine_cleaned['VILLES'].value_counts()\n"
   ]
  },
  {
   "cell_type": "code",
   "execution_count": 16,
   "metadata": {},
   "outputs": [
    {
     "output_type": "execute_result",
     "data": {
      "text/plain": [
       "value           28.083371\n",
       "Unnamed: 0    2029.807091\n",
       "LONGITUDE       -4.643727\n",
       "LATITUDE         5.883299\n",
       "dtype: float64"
      ]
     },
     "metadata": {},
     "execution_count": 16
    }
   ],
   "source": [
    "#finding the mean of the columns on the cleaned data set\n",
    "df_combine_cleaned.mean(axis = 0) "
   ]
  },
  {
   "cell_type": "code",
   "execution_count": 17,
   "metadata": {},
   "outputs": [
    {
     "output_type": "execute_result",
     "data": {
      "text/plain": [
       "                0           1\n",
       "0      2012-05-07  00:00:00.0\n",
       "1      2012-05-07  00:00:00.0\n",
       "2      2012-05-07  00:00:00.0\n",
       "3      2012-05-07  00:00:00.0\n",
       "4      2012-05-07  00:00:00.0\n",
       "...           ...         ...\n",
       "51356  2012-05-09  00:01:42.0\n",
       "51357  2012-05-09  00:01:42.0\n",
       "51358  2012-05-09  00:01:43.0\n",
       "51359  2012-05-09  00:01:43.0\n",
       "51360  2012-05-09  00:01:43.0\n",
       "\n",
       "[51361 rows x 2 columns]"
      ],
      "text/html": "<div>\n<style scoped>\n    .dataframe tbody tr th:only-of-type {\n        vertical-align: middle;\n    }\n\n    .dataframe tbody tr th {\n        vertical-align: top;\n    }\n\n    .dataframe thead th {\n        text-align: right;\n    }\n</style>\n<table border=\"1\" class=\"dataframe\">\n  <thead>\n    <tr style=\"text-align: right;\">\n      <th></th>\n      <th>0</th>\n      <th>1</th>\n    </tr>\n  </thead>\n  <tbody>\n    <tr>\n      <th>0</th>\n      <td>2012-05-07</td>\n      <td>00:00:00.0</td>\n    </tr>\n    <tr>\n      <th>1</th>\n      <td>2012-05-07</td>\n      <td>00:00:00.0</td>\n    </tr>\n    <tr>\n      <th>2</th>\n      <td>2012-05-07</td>\n      <td>00:00:00.0</td>\n    </tr>\n    <tr>\n      <th>3</th>\n      <td>2012-05-07</td>\n      <td>00:00:00.0</td>\n    </tr>\n    <tr>\n      <th>4</th>\n      <td>2012-05-07</td>\n      <td>00:00:00.0</td>\n    </tr>\n    <tr>\n      <th>...</th>\n      <td>...</td>\n      <td>...</td>\n    </tr>\n    <tr>\n      <th>51356</th>\n      <td>2012-05-09</td>\n      <td>00:01:42.0</td>\n    </tr>\n    <tr>\n      <th>51357</th>\n      <td>2012-05-09</td>\n      <td>00:01:42.0</td>\n    </tr>\n    <tr>\n      <th>51358</th>\n      <td>2012-05-09</td>\n      <td>00:01:43.0</td>\n    </tr>\n    <tr>\n      <th>51359</th>\n      <td>2012-05-09</td>\n      <td>00:01:43.0</td>\n    </tr>\n    <tr>\n      <th>51360</th>\n      <td>2012-05-09</td>\n      <td>00:01:43.0</td>\n    </tr>\n  </tbody>\n</table>\n<p>51361 rows × 2 columns</p>\n</div>"
     },
     "metadata": {},
     "execution_count": 17
    }
   ],
   "source": [
    "df_combine_cleaned['date_time'].str.split(expand = True)"
   ]
  },
  {
   "cell_type": "code",
   "execution_count": null,
   "metadata": {},
   "outputs": [],
   "source": []
  }
 ]
}